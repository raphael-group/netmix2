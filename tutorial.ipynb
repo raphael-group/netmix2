{
 "cells": [
  {
   "cell_type": "code",
   "execution_count": 1,
   "id": "7fcc3589",
   "metadata": {
    "execution": {
     "iopub.execute_input": "2021-11-08T14:00:51.107199Z",
     "iopub.status.busy": "2021-11-08T14:00:51.106797Z",
     "iopub.status.idle": "2021-11-08T14:00:53.206255Z",
     "shell.execute_reply": "2021-11-08T14:00:53.204148Z",
     "shell.execute_reply.started": "2021-11-08T14:00:51.107084Z"
    },
    "tags": []
   },
   "outputs": [],
   "source": [
    "import csv\n",
    "import pandas as pd\n",
    "import numpy as np\n",
    "from scipy.stats import norm\n",
    "import networkx as nx\n",
    "import sys\n",
    "\n",
    "from src.netmix2 import *\n",
    "from src.common import *"
   ]
  },
  {
   "cell_type": "code",
   "execution_count": 4,
   "id": "bd8c45a1",
   "metadata": {
    "execution": {
     "iopub.execute_input": "2021-11-08T14:02:04.662647Z",
     "iopub.status.busy": "2021-11-08T14:02:04.662232Z",
     "iopub.status.idle": "2021-11-08T14:02:04.667497Z",
     "shell.execute_reply": "2021-11-08T14:02:04.666369Z",
     "shell.execute_reply.started": "2021-11-08T14:02:04.662593Z"
    },
    "tags": []
   },
   "outputs": [],
   "source": [
    "sys.path.insert(0,\"locfdrpython\")\n",
    "from locfdrpython.locfdr import locfdr\n"
   ]
  },
  {
   "cell_type": "markdown",
   "id": "05e46c33",
   "metadata": {},
   "source": [
    "This Jupyterlab provides a step-by-step guide for running NetMix2 using the propagation family"
   ]
  },
  {
   "cell_type": "markdown",
   "id": "204d30d2",
   "metadata": {},
   "source": [
    "# Define inputs"
   ]
  },
  {
   "cell_type": "code",
   "execution_count": 5,
   "id": "c0d63120",
   "metadata": {
    "execution": {
     "iopub.execute_input": "2021-11-08T14:02:06.392582Z",
     "iopub.status.busy": "2021-11-08T14:02:06.392192Z",
     "iopub.status.idle": "2021-11-08T14:02:06.396986Z",
     "shell.execute_reply": "2021-11-08T14:02:06.395862Z",
     "shell.execute_reply.started": "2021-11-08T14:02:06.392529Z"
    },
    "tags": []
   },
   "outputs": [],
   "source": [
    "edge_list = 'data/edge_list.tsv'\n",
    "pvalues_file = 'data/gene_scores.tsv'"
   ]
  },
  {
   "cell_type": "code",
   "execution_count": 6,
   "id": "6b4f6469",
   "metadata": {
    "execution": {
     "iopub.execute_input": "2021-11-08T14:02:06.851427Z",
     "iopub.status.busy": "2021-11-08T14:02:06.851053Z",
     "iopub.status.idle": "2021-11-08T14:02:06.856044Z",
     "shell.execute_reply": "2021-11-08T14:02:06.854904Z",
     "shell.execute_reply.started": "2021-11-08T14:02:06.851376Z"
    },
    "tags": []
   },
   "outputs": [],
   "source": [
    "verbosity = 1"
   ]
  },
  {
   "cell_type": "code",
   "execution_count": 7,
   "id": "a4e7f172",
   "metadata": {
    "execution": {
     "iopub.execute_input": "2021-11-08T14:02:07.122299Z",
     "iopub.status.busy": "2021-11-08T14:02:07.121918Z",
     "iopub.status.idle": "2021-11-08T14:02:07.126628Z",
     "shell.execute_reply": "2021-11-08T14:02:07.125513Z",
     "shell.execute_reply.started": "2021-11-08T14:02:07.122248Z"
    },
    "tags": []
   },
   "outputs": [],
   "source": [
    "num_edges_in_Gdelta = 100000"
   ]
  },
  {
   "cell_type": "code",
   "execution_count": 8,
   "id": "20f13a05",
   "metadata": {
    "execution": {
     "iopub.execute_input": "2021-11-08T14:02:07.366087Z",
     "iopub.status.busy": "2021-11-08T14:02:07.365710Z",
     "iopub.status.idle": "2021-11-08T14:02:07.370312Z",
     "shell.execute_reply": "2021-11-08T14:02:07.369197Z",
     "shell.execute_reply.started": "2021-11-08T14:02:07.366036Z"
    },
    "tags": []
   },
   "outputs": [],
   "source": [
    "density_threshold = 0.05"
   ]
  },
  {
   "cell_type": "code",
   "execution_count": 9,
   "id": "bbc52a63",
   "metadata": {
    "execution": {
     "iopub.execute_input": "2021-11-08T14:02:07.616589Z",
     "iopub.status.busy": "2021-11-08T14:02:07.616199Z",
     "iopub.status.idle": "2021-11-08T14:02:07.620762Z",
     "shell.execute_reply": "2021-11-08T14:02:07.619754Z",
     "shell.execute_reply.started": "2021-11-08T14:02:07.616537Z"
    },
    "tags": []
   },
   "outputs": [],
   "source": [
    "time_limit = 1"
   ]
  },
  {
   "cell_type": "markdown",
   "id": "6e0384cd",
   "metadata": {},
   "source": [
    "# Load network"
   ]
  },
  {
   "cell_type": "code",
   "execution_count": 10,
   "id": "a6f28a06",
   "metadata": {
    "execution": {
     "iopub.execute_input": "2021-11-08T14:02:09.761280Z",
     "iopub.status.busy": "2021-11-08T14:02:09.760898Z",
     "iopub.status.idle": "2021-11-08T14:03:01.303222Z",
     "shell.execute_reply": "2021-11-08T14:03:01.302273Z",
     "shell.execute_reply.started": "2021-11-08T14:02:09.761229Z"
    },
    "tags": []
   },
   "outputs": [
    {
     "name": "stdout",
     "output_type": "stream",
     "text": [
      "loading network\n",
      "Number of nodes: 10725, Number of edges: 238793\n"
     ]
    }
   ],
   "source": [
    "node_list, A_network = load_network(edge_list, 1)"
   ]
  },
  {
   "cell_type": "markdown",
   "id": "3bfbbbce",
   "metadata": {},
   "source": [
    "# Load gene scores (P-values)"
   ]
  },
  {
   "cell_type": "code",
   "execution_count": 6,
   "id": "d4b1a921",
   "metadata": {
    "execution": {
     "iopub.execute_input": "2021-11-08T04:01:15.955528Z",
     "iopub.status.busy": "2021-11-08T04:01:15.955115Z",
     "iopub.status.idle": "2021-11-08T04:01:17.164918Z",
     "shell.execute_reply": "2021-11-08T04:01:17.162257Z",
     "shell.execute_reply.started": "2021-11-08T04:01:15.955458Z"
    },
    "tags": []
   },
   "outputs": [
    {
     "name": "stdout",
     "output_type": "stream",
     "text": [
      "loading genescores\n"
     ]
    }
   ],
   "source": [
    "pvals_list = load_pvalues(pvalues_file, node_list, 1)"
   ]
  },
  {
   "cell_type": "markdown",
   "id": "aab26a7f",
   "metadata": {},
   "source": [
    "# Find the largest connected component in the network for genes with p-values"
   ]
  },
  {
   "cell_type": "code",
   "execution_count": 7,
   "id": "5c13ba39",
   "metadata": {
    "execution": {
     "iopub.execute_input": "2021-11-08T04:01:17.168974Z",
     "iopub.status.busy": "2021-11-08T04:01:17.168509Z",
     "iopub.status.idle": "2021-11-08T04:01:21.198782Z",
     "shell.execute_reply": "2021-11-08T04:01:21.197789Z",
     "shell.execute_reply.started": "2021-11-08T04:01:17.168903Z"
    },
    "tags": []
   },
   "outputs": [
    {
     "name": "stdout",
     "output_type": "stream",
     "text": [
      "number of nodes in G: 10422\n",
      "number of edges in G: 228751\n"
     ]
    }
   ],
   "source": [
    "(pvals_list, node_list, A_network) = restrict_to_genes_in_network(pvals_list, node_list, A_network, 1)"
   ]
  },
  {
   "cell_type": "markdown",
   "id": "768ab346",
   "metadata": {},
   "source": [
    "# Compute z-scores from the p-values"
   ]
  },
  {
   "cell_type": "code",
   "execution_count": 10,
   "id": "866203a5",
   "metadata": {
    "execution": {
     "iopub.execute_input": "2021-11-08T04:01:40.830984Z",
     "iopub.status.busy": "2021-11-08T04:01:40.830597Z",
     "iopub.status.idle": "2021-11-08T04:01:40.856556Z",
     "shell.execute_reply": "2021-11-08T04:01:40.855513Z",
     "shell.execute_reply.started": "2021-11-08T04:01:40.830930Z"
    },
    "tags": []
   },
   "outputs": [
    {
     "name": "stdout",
     "output_type": "stream",
     "text": [
      "-5.199337582290661\n"
     ]
    }
   ],
   "source": [
    "zscores = compute_zscores(pvals_list)\n",
    "zscores = post_process_zscores(zscores)"
   ]
  },
  {
   "cell_type": "markdown",
   "id": "e938c071",
   "metadata": {},
   "source": [
    "# Compute the altered subnetwork size using local FDR"
   ]
  },
  {
   "cell_type": "code",
   "execution_count": 11,
   "id": "6c1de4e2",
   "metadata": {
    "execution": {
     "iopub.execute_input": "2021-11-08T04:01:42.518323Z",
     "iopub.status.busy": "2021-11-08T04:01:42.517931Z",
     "iopub.status.idle": "2021-11-08T04:01:44.100212Z",
     "shell.execute_reply": "2021-11-08T04:01:44.099114Z",
     "shell.execute_reply.started": "2021-11-08T04:01:42.518269Z"
    },
    "tags": []
   },
   "outputs": [
    {
     "name": "stderr",
     "output_type": "stream",
     "text": [
      "/n/fs/ragr-research/projects/network-mutations/02-23-2021/locfdrpython/locfdr.py:165: UserWarning: f(z) misfit = 3.8. Rerun with larger df.\n",
      "  wa.warn(\"f(z) misfit = \" + str(round(D,1)) + \". Rerun with larger df.\")\n"
     ]
    }
   ],
   "source": [
    "nulltype_ind = 1\n",
    "nulltype_name = \"mlest\"\n",
    "r_locfdr=locfdr(zscores, nulltype=1, plot=0)\n"
   ]
  },
  {
   "cell_type": "code",
   "execution_count": 12,
   "id": "5f99c64d",
   "metadata": {
    "execution": {
     "iopub.execute_input": "2021-11-08T04:01:46.217077Z",
     "iopub.status.busy": "2021-11-08T04:01:46.216902Z",
     "iopub.status.idle": "2021-11-08T04:01:46.272333Z",
     "shell.execute_reply": "2021-11-08T04:01:46.271644Z",
     "shell.execute_reply.started": "2021-11-08T04:01:46.217055Z"
    },
    "tags": []
   },
   "outputs": [
    {
     "name": "stdout",
     "output_type": "stream",
     "text": [
      "283\n"
     ]
    }
   ],
   "source": [
    "nonnull_count = correct_nans_from_locfdr(r_locfdr, zscores, nulltype_name)\n",
    "if verbosity > 0:\n",
    "    print(nonnull_count)"
   ]
  },
  {
   "cell_type": "markdown",
   "id": "647ddc00",
   "metadata": {},
   "source": [
    "# Construct the similarity matrix and similarity threshold graph"
   ]
  },
  {
   "cell_type": "code",
   "execution_count": 13,
   "id": "a91be596",
   "metadata": {
    "execution": {
     "iopub.execute_input": "2021-11-08T04:01:48.392624Z",
     "iopub.status.busy": "2021-11-08T04:01:48.392296Z",
     "iopub.status.idle": "2021-11-08T04:02:02.964354Z",
     "shell.execute_reply": "2021-11-08T04:02:02.962591Z",
     "shell.execute_reply.started": "2021-11-08T04:01:48.392583Z"
    },
    "tags": []
   },
   "outputs": [],
   "source": [
    "PPR_sim_mat, PPR_mat_rowsums = compute_ppr_kernel(A_network)"
   ]
  },
  {
   "cell_type": "code",
   "execution_count": 15,
   "id": "8dae30f3",
   "metadata": {
    "execution": {
     "iopub.execute_input": "2021-11-08T04:02:10.383058Z",
     "iopub.status.busy": "2021-11-08T04:02:10.382671Z",
     "iopub.status.idle": "2021-11-08T04:02:18.298914Z",
     "shell.execute_reply": "2021-11-08T04:02:18.297780Z",
     "shell.execute_reply.started": "2021-11-08T04:02:10.383005Z"
    },
    "tags": []
   },
   "outputs": [],
   "source": [
    "###########################################################\n",
    "# compute G_delta\n",
    "# threshold similarity matrix\n",
    "sim_mat = PPR_sim_mat\n",
    "\n",
    "sim_mat_nodiag=sim_mat-np.diag(np.diag(sim_mat))\n",
    "sim_mat_nodiag_sorted=np.sort(sim_mat_nodiag[np.triu_indices(sim_mat_nodiag.shape[0],1)])[::-1]\n",
    "\n",
    "delta=sim_mat_nodiag_sorted[num_edges_in_Gdelta]\n"
   ]
  },
  {
   "cell_type": "code",
   "execution_count": 16,
   "id": "cc802ae3",
   "metadata": {
    "execution": {
     "iopub.execute_input": "2021-11-08T04:02:28.773854Z",
     "iopub.status.busy": "2021-11-08T04:02:28.773424Z",
     "iopub.status.idle": "2021-11-08T04:02:30.150486Z",
     "shell.execute_reply": "2021-11-08T04:02:30.149002Z",
     "shell.execute_reply.started": "2021-11-08T04:02:28.773794Z"
    },
    "tags": []
   },
   "outputs": [
    {
     "name": "stdout",
     "output_type": "stream",
     "text": [
      "delta: 0.0029081680733686606\n",
      "number of edges in G: 228751.0\n",
      "number of edges in G_delta: 100000.0\n"
     ]
    }
   ],
   "source": [
    "sim_mat_delta=1*(sim_mat_nodiag > delta)\n",
    "degs_PPR_gwas = np.sum(sim_mat_delta,0)\n",
    "num_edges_delta = int(np.sum(sim_mat_delta)/2)\n",
    "\n",
    "print(\"delta: {}\".format(delta))\n",
    "print('number of edges in G: {}'.format(np.sum(A_network)/2))\n",
    "print('number of edges in G_delta: {}'.format(np.sum(sim_mat_delta)/2))"
   ]
  },
  {
   "cell_type": "markdown",
   "id": "57ef9c70",
   "metadata": {
    "execution": {
     "iopub.execute_input": "2021-11-08T04:02:45.920944Z",
     "iopub.status.busy": "2021-11-08T04:02:45.920512Z",
     "iopub.status.idle": "2021-11-08T04:02:45.925927Z",
     "shell.execute_reply": "2021-11-08T04:02:45.924798Z",
     "shell.execute_reply.started": "2021-11-08T04:02:45.920888Z"
    }
   },
   "source": [
    "# Define the parameters for running NetMix2"
   ]
  },
  {
   "cell_type": "code",
   "execution_count": 19,
   "id": "ed379371",
   "metadata": {
    "execution": {
     "iopub.execute_input": "2021-11-08T04:02:46.782323Z",
     "iopub.status.busy": "2021-11-08T04:02:46.781938Z",
     "iopub.status.idle": "2021-11-08T04:02:46.789623Z",
     "shell.execute_reply": "2021-11-08T04:02:46.788489Z",
     "shell.execute_reply.started": "2021-11-08T04:02:46.782270Z"
    },
    "tags": []
   },
   "outputs": [
    {
     "name": "stdout",
     "output_type": "stream",
     "text": [
      "size of altered subnetwork: 283\n",
      "target edge density: 0.05\n"
     ]
    }
   ],
   "source": [
    "###########################################################\n",
    "# parameters for netmix\n",
    "s=nonnull_count\n",
    "alpha=s/len(node_list)\n",
    "target_edge_density = density_threshold\n",
    "rho=target_edge_density*(s-1)\n",
    "\n",
    "print('size of altered subnetwork: {}'.format(s))\n",
    "print('target edge density: {}'.format(target_edge_density))\n"
   ]
  },
  {
   "cell_type": "markdown",
   "id": "4609f4d4",
   "metadata": {
    "execution": {
     "iopub.execute_input": "2021-11-08T04:03:00.553688Z",
     "iopub.status.busy": "2021-11-08T04:03:00.553289Z",
     "iopub.status.idle": "2021-11-08T04:03:00.557857Z",
     "shell.execute_reply": "2021-11-08T04:03:00.556747Z",
     "shell.execute_reply.started": "2021-11-08T04:03:00.553636Z"
    }
   },
   "source": [
    "# Run NetMix2"
   ]
  },
  {
   "cell_type": "code",
   "execution_count": 24,
   "id": "128a9780",
   "metadata": {
    "execution": {
     "iopub.execute_input": "2021-11-08T03:53:57.095457Z",
     "iopub.status.busy": "2021-11-08T03:53:57.095309Z",
     "iopub.status.idle": "2021-11-08T03:55:47.889918Z",
     "shell.execute_reply": "2021-11-08T03:55:47.889075Z",
     "shell.execute_reply.started": "2021-11-08T03:53:57.095437Z"
    },
    "tags": []
   },
   "outputs": [
    {
     "name": "stdout",
     "output_type": "stream",
     "text": [
      "running netmix\n",
      "time_limit 1\n",
      "n: 10422, clique_size: 283\n",
      "Academic license - for non-commercial use only - expires 2022-08-05\n",
      "Using license file /u/typark/gurobi.lic\n",
      "Changed value of parameter TimeLimit to 3600.0\n",
      "   Prev: inf  Min: 0.0  Max: inf  Default: inf\n",
      "here1\n",
      "here2\n",
      "here3\n",
      "here4\n",
      "Gurobi Optimizer version 9.1.2 build v9.1.2rc0 (linux64)\n",
      "Thread count: 28 physical cores, 56 logical processors, using up to 28 threads\n",
      "Optimize a model with 1 rows, 10422 columns and 10422 nonzeros\n",
      "Model fingerprint: 0x81c14ed2\n",
      "Model has 1 quadratic constraint\n",
      "Variable types: 0 continuous, 10422 integer (10422 binary)\n",
      "Coefficient statistics:\n",
      "  Matrix range     [1e+00, 1e+00]\n",
      "  QMatrix range    [1e+00, 1e+00]\n",
      "  QLMatrix range   [7e+00, 7e+00]\n",
      "  Objective range  [7e-05, 8e+00]\n",
      "  Bounds range     [1e+00, 1e+00]\n",
      "  RHS range        [3e+02, 3e+02]\n",
      "Found heuristic solution: objective -0.0000000\n",
      "Presolve time: 0.50s\n",
      "Presolved: 200002 rows, 110422 columns, 520844 nonzeros\n",
      "Variable types: 0 continuous, 110422 integer (110422 binary)\n",
      "\n",
      "Deterministic concurrent LP optimizer: primal and dual simplex (primal and dual model)\n",
      "Showing first log only...\n",
      "\n",
      "Presolved: 199068 rows, 108870 columns, 516339 nonzeros\n",
      "\n",
      "\n",
      "Root simplex log...\n",
      "\n",
      "Iteration    Objective       Primal Inf.    Dual Inf.      Time\n",
      "   99241   -7.2973861e+00   0.000000e+00   9.216781e+04      5s\n",
      "  102181   -7.5427352e+00   0.000000e+00   2.739391e+05     10s\n",
      "  103941   -7.7534911e+00   0.000000e+00   1.999508e+05     15s\n",
      "  106181   -8.0980436e+00   0.000000e+00   2.731461e+05     20s\n",
      "  108091   -8.5313071e+00   0.000000e+00   2.321541e+05     25s\n",
      "  110071   -9.1595882e+00   0.000000e+00   2.296194e+05     30s\n",
      "  112171   -1.0770425e+01   0.000000e+00   2.369625e+05     35s\n",
      "  116164   -5.6577982e+02   0.000000e+00   1.406790e+04     40s\n",
      "  120994   -6.2889116e+02   0.000000e+00   6.416890e+04     45s\n",
      "  122414   -6.2921619e+02   0.000000e+00   3.971576e+04     50s\n",
      "  124034   -6.2930768e+02   0.000000e+00   2.396551e+04     56s\n",
      "Concurrent spin time: 2.40s\n",
      "\n",
      "Solved with dual simplex (primal model)\n",
      "\n",
      "Root relaxation: objective -1.134886e+03, 128477 iterations, 55.86 seconds\n",
      "Total elapsed time = 58.46s\n",
      "\n",
      "    Nodes    |    Current Node    |     Objective Bounds      |     Work\n",
      " Expl Unexpl |  Obj  Depth IntInf | Incumbent    BestBd   Gap | It/Node Time\n",
      "\n",
      "     0     0 1134.88631    0 2108   -0.00000 1134.88631      -     -   59s\n",
      "H    0     0                    1116.0224157 1134.88631  1.69%     -   59s\n",
      "H    0     0                    1133.3928364 1134.88631  0.13%     -   62s\n",
      "H    0     0                    1133.6179690 1134.88631  0.11%     -   63s\n",
      "     0     0 1134.78124    0 2121 1133.61797 1134.78124  0.10%     -   77s\n",
      "     0     0 1134.78124    0 1923 1133.61797 1134.78124  0.10%     -   86s\n",
      "     0     0 1133.88561    0 1930 1133.61797 1133.88561  0.02%     -   93s\n",
      "     0     0 1133.88561    0 1923 1133.61797 1133.88561  0.02%     -   94s\n",
      "     0     0 1133.88364    0 1930 1133.61797 1133.88364  0.02%     -   97s\n",
      "     0     0 1133.88364    0 1923 1133.61797 1133.88364  0.02%     -   97s\n",
      "     0     0 1133.88364    0 1930 1133.61797 1133.88364  0.02%     -   99s\n",
      "     0     0 1133.88364    0 1923 1133.61797 1133.88364  0.02%     -   99s\n",
      "     0     0 1133.86781    0 1930 1133.61797 1133.86781  0.02%     -  101s\n",
      "     0     0 1133.86766    0 1933 1133.61797 1133.86766  0.02%     -  101s\n",
      "     0     0 1133.82768    0 1926 1133.61797 1133.82768  0.02%     -  102s\n",
      "     0     0 1133.82768    0 1926 1133.61797 1133.82768  0.02%     -  102s\n",
      "     0     0 1133.82768    0 1920 1133.61797 1133.82768  0.02%     -  103s\n",
      "     0     0 1133.82768    0 1926 1133.61797 1133.82768  0.02%     -  104s\n",
      "     0     0 1133.82768    0 1926 1133.61797 1133.82768  0.02%     -  104s\n",
      "     0     2 1133.82768    0 1926 1133.61797 1133.82768  0.02%     -  105s\n",
      "\n",
      "Cutting planes:\n",
      "  Gomory: 4\n",
      "  RLT: 24\n",
      "\n",
      "Explored 19 nodes (191433 simplex iterations) in 105.55 seconds\n",
      "Thread count was 28 (of 56 available processors)\n",
      "\n",
      "Solution count 4: 1133.62 1133.39 1116.02 -0 \n",
      "\n",
      "Optimal solution found (tolerance 1.00e-04)\n",
      "Best objective 1.133617969021e+03, best bound 1.133668118663e+03, gap 0.0044%\n"
     ]
    }
   ],
   "source": [
    "if verbosity > 0:\n",
    "    print('running netmix')\n",
    "    print(\"time_limit\", time_limit)\n",
    "    output=True\n",
    "elif verbosity > 1:\n",
    "    output=True\n",
    "est_subnetwork = netmix_edgedense(sim_mat_delta, rho, zscores, alpha, edge_dense_linear=True, output=output, time_limit=3600*time_limit)"
   ]
  },
  {
   "cell_type": "markdown",
   "id": "37b3003e",
   "metadata": {},
   "source": [
    "# Analyze the altered subnetwork"
   ]
  },
  {
   "cell_type": "code",
   "execution_count": 22,
   "id": "e4cc9069",
   "metadata": {
    "execution": {
     "iopub.execute_input": "2021-11-08T04:05:41.076856Z",
     "iopub.status.busy": "2021-11-08T04:05:41.076396Z",
     "iopub.status.idle": "2021-11-08T04:05:41.116212Z",
     "shell.execute_reply": "2021-11-08T04:05:41.114922Z",
     "shell.execute_reply.started": "2021-11-08T04:05:41.076799Z"
    },
    "tags": []
   },
   "outputs": [
    {
     "ename": "NameError",
     "evalue": "name 'est_subnetwork' is not defined",
     "output_type": "error",
     "traceback": [
      "\u001b[0;31m---------------------------------------------------------------------------\u001b[0m",
      "\u001b[0;31mNameError\u001b[0m                                 Traceback (most recent call last)",
      "\u001b[0;32m<ipython-input-22-2b793ba6759a>\u001b[0m in \u001b[0;36m<module>\u001b[0;34m\u001b[0m\n\u001b[0;32m----> 1\u001b[0;31m \u001b[0msolution_size\u001b[0m \u001b[0;34m=\u001b[0m \u001b[0mlen\u001b[0m\u001b[0;34m(\u001b[0m\u001b[0mest_subnetwork\u001b[0m\u001b[0;34m)\u001b[0m\u001b[0;34m\u001b[0m\u001b[0;34m\u001b[0m\u001b[0m\n\u001b[0m\u001b[1;32m      2\u001b[0m \u001b[0mest_subnetwork_genes\u001b[0m \u001b[0;34m=\u001b[0m \u001b[0mnode_list\u001b[0m\u001b[0;34m[\u001b[0m\u001b[0mest_subnetwork\u001b[0m\u001b[0;34m]\u001b[0m \u001b[0;32mif\u001b[0m \u001b[0msolution_size\u001b[0m\u001b[0;34m>\u001b[0m\u001b[0;36m0\u001b[0m \u001b[0;32melse\u001b[0m \u001b[0;34m[\u001b[0m\u001b[0;34m]\u001b[0m\u001b[0;34m\u001b[0m\u001b[0;34m\u001b[0m\u001b[0m\n\u001b[1;32m      3\u001b[0m \u001b[0;34m\u001b[0m\u001b[0m\n\u001b[1;32m      4\u001b[0m \u001b[0msolution_network\u001b[0m \u001b[0;34m=\u001b[0m \u001b[0msim_mat_delta\u001b[0m\u001b[0;34m[\u001b[0m\u001b[0mnp\u001b[0m\u001b[0;34m.\u001b[0m\u001b[0mix_\u001b[0m\u001b[0;34m(\u001b[0m\u001b[0mest_subnetwork\u001b[0m\u001b[0;34m,\u001b[0m \u001b[0mest_subnetwork\u001b[0m\u001b[0;34m)\u001b[0m\u001b[0;34m]\u001b[0m \u001b[0;32mif\u001b[0m \u001b[0msolution_size\u001b[0m\u001b[0;34m>\u001b[0m\u001b[0;36m0\u001b[0m \u001b[0;32melse\u001b[0m \u001b[0;32mNone\u001b[0m\u001b[0;34m\u001b[0m\u001b[0;34m\u001b[0m\u001b[0m\n\u001b[1;32m      5\u001b[0m \u001b[0mnum_edges_in_solution\u001b[0m \u001b[0;34m=\u001b[0m \u001b[0msum\u001b[0m\u001b[0;34m(\u001b[0m\u001b[0msum\u001b[0m\u001b[0;34m(\u001b[0m\u001b[0msolution_network\u001b[0m\u001b[0;34m)\u001b[0m\u001b[0;34m)\u001b[0m\u001b[0;34m/\u001b[0m\u001b[0;36m2\u001b[0m \u001b[0;32mif\u001b[0m \u001b[0msolution_size\u001b[0m\u001b[0;34m>\u001b[0m\u001b[0;36m0\u001b[0m \u001b[0;32melse\u001b[0m \u001b[0;36m0\u001b[0m\u001b[0;34m\u001b[0m\u001b[0;34m\u001b[0m\u001b[0m\n",
      "\u001b[0;31mNameError\u001b[0m: name 'est_subnetwork' is not defined"
     ]
    }
   ],
   "source": [
    "solution_size = len(est_subnetwork)\n",
    "est_subnetwork_genes = node_list[est_subnetwork] if solution_size>0 else []\n",
    "\n",
    "solution_network = sim_mat_delta[np.ix_(est_subnetwork, est_subnetwork)] if solution_size>0 else None\n",
    "num_edges_in_solution = sum(sum(solution_network))/2 if solution_size>0 else 0\n",
    "solution_network_density = num_edges_in_solution/(solution_size*(solution_size-1)/2) if solution_size>0 else 0\n",
    "\n",
    "print(\"Number of vertices in altered subnetwork: {}\".format(solution_size))\n",
    "print(\"Density of altered subnetwork: {}\".format(solution_network_density))\n"
   ]
  },
  {
   "cell_type": "markdown",
   "id": "a6762e5e",
   "metadata": {},
   "source": [
    "# Write the altered subnetwork to a file"
   ]
  },
  {
   "cell_type": "code",
   "execution_count": 27,
   "id": "c87347d8",
   "metadata": {
    "execution": {
     "iopub.execute_input": "2021-11-08T03:56:09.500901Z",
     "iopub.status.busy": "2021-11-08T03:56:09.500499Z",
     "iopub.status.idle": "2021-11-08T03:56:09.517607Z",
     "shell.execute_reply": "2021-11-08T03:56:09.516382Z",
     "shell.execute_reply.started": "2021-11-08T03:56:09.500847Z"
    },
    "tags": []
   },
   "outputs": [
    {
     "ename": "NameError",
     "evalue": "name 'args' is not defined",
     "output_type": "error",
     "traceback": [
      "\u001b[0;31m---------------------------------------------------------------------------\u001b[0m",
      "\u001b[0;31mNameError\u001b[0m                                 Traceback (most recent call last)",
      "\u001b[0;32m<ipython-input-27-eb03ee65776e>\u001b[0m in \u001b[0;36m<module>\u001b[0;34m\u001b[0m\n\u001b[1;32m      1\u001b[0m \u001b[0;31m###########################################################\u001b[0m\u001b[0;34m\u001b[0m\u001b[0;34m\u001b[0m\u001b[0;34m\u001b[0m\u001b[0m\n\u001b[1;32m      2\u001b[0m \u001b[0;31m# write solution\u001b[0m\u001b[0;34m\u001b[0m\u001b[0;34m\u001b[0m\u001b[0;34m\u001b[0m\u001b[0m\n\u001b[0;32m----> 3\u001b[0;31m \u001b[0;32mif\u001b[0m \u001b[0margs\u001b[0m\u001b[0;34m.\u001b[0m\u001b[0moutput\u001b[0m\u001b[0;34m:\u001b[0m\u001b[0;34m\u001b[0m\u001b[0;34m\u001b[0m\u001b[0m\n\u001b[0m\u001b[1;32m      4\u001b[0m     \u001b[0mwrite_list_to_file\u001b[0m\u001b[0;34m(\u001b[0m\u001b[0mos\u001b[0m\u001b[0;34m.\u001b[0m\u001b[0mpath\u001b[0m\u001b[0;34m.\u001b[0m\u001b[0mjoin\u001b[0m\u001b[0;34m(\u001b[0m\u001b[0margs\u001b[0m\u001b[0;34m.\u001b[0m\u001b[0moutput\u001b[0m\u001b[0;34m,\u001b[0m \u001b[0;34m'netmix_subnetwork.tsv'\u001b[0m\u001b[0;34m)\u001b[0m\u001b[0;34m,\u001b[0m \u001b[0mest_subnetwork_genes\u001b[0m\u001b[0;34m)\u001b[0m\u001b[0;34m\u001b[0m\u001b[0;34m\u001b[0m\u001b[0m\n\u001b[1;32m      5\u001b[0m     \u001b[0mwrite_list_to_file\u001b[0m\u001b[0;34m(\u001b[0m\u001b[0mos\u001b[0m\u001b[0;34m.\u001b[0m\u001b[0mpath\u001b[0m\u001b[0;34m.\u001b[0m\u001b[0mjoin\u001b[0m\u001b[0;34m(\u001b[0m\u001b[0margs\u001b[0m\u001b[0;34m.\u001b[0m\u001b[0moutput\u001b[0m\u001b[0;34m,\u001b[0m \u001b[0;34m'node_list.tsv'\u001b[0m\u001b[0;34m)\u001b[0m\u001b[0;34m,\u001b[0m \u001b[0mnode_list\u001b[0m\u001b[0;34m)\u001b[0m\u001b[0;34m\u001b[0m\u001b[0;34m\u001b[0m\u001b[0m\n",
      "\u001b[0;31mNameError\u001b[0m: name 'args' is not defined"
     ]
    }
   ],
   "source": [
    "###########################################################\n",
    "# write solution\n",
    "if output:\n",
    "    write_list_to_file(os.path.join(output, 'netmix_subnetwork.tsv'), est_subnetwork_genes)\n",
    "    write_list_to_file(os.path.join(output, 'node_list.tsv'), node_list)"
   ]
  },
  {
   "cell_type": "code",
   "execution_count": null,
   "id": "4f475ed3",
   "metadata": {},
   "outputs": [],
   "source": []
  }
 ],
 "metadata": {
  "kernelspec": {
   "display_name": "Python (propagation-netmix)",
   "language": "python",
   "name": "propagation-netmix"
  },
  "language_info": {
   "codemirror_mode": {
    "name": "ipython",
    "version": 3
   },
   "file_extension": ".py",
   "mimetype": "text/x-python",
   "name": "python",
   "nbconvert_exporter": "python",
   "pygments_lexer": "ipython3",
   "version": "3.7.7"
  }
 },
 "nbformat": 4,
 "nbformat_minor": 5
}
